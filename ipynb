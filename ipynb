%matplotlib inline
from matplotlib import pyplot as plt

f = open("circulartrajectory.txt")
lines = f.readlines()
#print(lines)
f.close()

split_lines = []

for line in lines[1:]:
    split_line = line.split()
    split_lines.append(split_line)
    
nested_list_of_numbers = []

for split_line in split_lines:
    list_of_numbers = []
    for entry in split_line:
        list_of_numbers.append(float(entry))
    nested_list_of_numbers.append(list_of_numbers)
    
    
a = []
b = []
#c = []
#d = []
#e = [] 
#f = []
#g = []

for list_of_numbers in nested_list_of_numbers:
    a.append(list_of_numbers[0])
    b.append(list_of_numbers[1])
    #c.append(list_of_numbers[2])
    #d.append(list_of_numbers[3])
    #e.append(list_of_numbers[4])
    #f.append(list_of_numbers[5])
    #g.append(list_of_numbers[6])
    
plt.plot(a,b)
